{
 "cells": [
  {
   "cell_type": "code",
   "execution_count": 255,
   "metadata": {},
   "outputs": [
    {
     "name": "stdout",
     "output_type": "stream",
     "text": [
      "\n"
     ]
    }
   ],
   "source": [
    "print()"
   ]
  },
  {
   "cell_type": "code",
   "execution_count": 256,
   "metadata": {},
   "outputs": [
    {
     "name": "stdout",
     "output_type": "stream",
     "text": [
      "Bob\n"
     ]
    }
   ],
   "source": [
    "print(\"Bob\")"
   ]
  },
  {
   "cell_type": "code",
   "execution_count": 257,
   "metadata": {},
   "outputs": [
    {
     "name": "stdout",
     "output_type": "stream",
     "text": [
      "Bob Peter\n"
     ]
    }
   ],
   "source": [
    "print(\"Bob\", \"Peter\")"
   ]
  },
  {
   "cell_type": "code",
   "execution_count": 258,
   "metadata": {},
   "outputs": [
    {
     "name": "stdout",
     "output_type": "stream",
     "text": [
      "Greg Claudia Bob\n"
     ]
    }
   ],
   "source": [
    "print(\"Greg\", \"Claudia\", \"Bob\")"
   ]
  },
  {
   "cell_type": "code",
   "execution_count": 259,
   "metadata": {},
   "outputs": [
    {
     "name": "stdout",
     "output_type": "stream",
     "text": [
      "Greg Claudia Bob Peter\n"
     ]
    }
   ],
   "source": [
    "print(\"Greg\", \"Claudia\", \"Bob\", \"Peter\")"
   ]
  },
  {
   "cell_type": "code",
   "execution_count": 260,
   "metadata": {},
   "outputs": [],
   "source": [
    "# Al definir un argumento de entrada, este siempre es obligatorio\n",
    "def print_fn(string_1):\n",
    "    print(string_1)"
   ]
  },
  {
   "cell_type": "code",
   "execution_count": 261,
   "metadata": {},
   "outputs": [
    {
     "ename": "TypeError",
     "evalue": "print_fn() missing 1 required positional argument: 'string_1'",
     "output_type": "error",
     "traceback": [
      "\u001b[0;31m---------------------------------------------------------------------------\u001b[0m",
      "\u001b[0;31mTypeError\u001b[0m                                 Traceback (most recent call last)",
      "Cell \u001b[0;32mIn[261], line 1\u001b[0m\n\u001b[0;32m----> 1\u001b[0m print_fn()\n",
      "\u001b[0;31mTypeError\u001b[0m: print_fn() missing 1 required positional argument: 'string_1'"
     ]
    }
   ],
   "source": [
    "print_fn()"
   ]
  },
  {
   "cell_type": "code",
   "execution_count": 262,
   "metadata": {},
   "outputs": [],
   "source": [
    "def print_fn(string_1 = \"\\n\"):\n",
    "    print(string_1)"
   ]
  },
  {
   "cell_type": "code",
   "execution_count": 263,
   "metadata": {},
   "outputs": [
    {
     "name": "stdout",
     "output_type": "stream",
     "text": [
      "\n",
      "\n"
     ]
    }
   ],
   "source": [
    "print_fn()"
   ]
  },
  {
   "cell_type": "code",
   "execution_count": 264,
   "metadata": {},
   "outputs": [
    {
     "name": "stdout",
     "output_type": "stream",
     "text": [
      "Bob\n"
     ]
    }
   ],
   "source": [
    "print_fn(\"Bob\")"
   ]
  },
  {
   "cell_type": "code",
   "execution_count": 265,
   "metadata": {},
   "outputs": [
    {
     "ename": "TypeError",
     "evalue": "print_fn() takes from 0 to 1 positional arguments but 2 were given",
     "output_type": "error",
     "traceback": [
      "\u001b[0;31m---------------------------------------------------------------------------\u001b[0m",
      "\u001b[0;31mTypeError\u001b[0m                                 Traceback (most recent call last)",
      "Cell \u001b[0;32mIn[265], line 1\u001b[0m\n\u001b[0;32m----> 1\u001b[0m print_fn(\u001b[39m\"\u001b[39;49m\u001b[39mBob\u001b[39;49m\u001b[39m\"\u001b[39;49m, \u001b[39m\"\u001b[39;49m\u001b[39mPeter\u001b[39;49m\u001b[39m\"\u001b[39;49m)\n",
      "\u001b[0;31mTypeError\u001b[0m: print_fn() takes from 0 to 1 positional arguments but 2 were given"
     ]
    }
   ],
   "source": [
    "print_fn(\"Bob\", \"Peter\")"
   ]
  },
  {
   "cell_type": "code",
   "execution_count": 270,
   "metadata": {},
   "outputs": [],
   "source": [
    "def print_fn(string_1 = \"\\n\", string_2 = \"\"):\n",
    "    print(string_1, string_2)"
   ]
  },
  {
   "cell_type": "code",
   "execution_count": 271,
   "metadata": {},
   "outputs": [
    {
     "name": "stdout",
     "output_type": "stream",
     "text": [
      "\n",
      " \n"
     ]
    }
   ],
   "source": [
    "print_fn()"
   ]
  },
  {
   "cell_type": "code",
   "execution_count": 272,
   "metadata": {},
   "outputs": [
    {
     "name": "stdout",
     "output_type": "stream",
     "text": [
      "Bob \n"
     ]
    }
   ],
   "source": [
    "print_fn(\"Bob\")"
   ]
  },
  {
   "cell_type": "code",
   "execution_count": 273,
   "metadata": {},
   "outputs": [
    {
     "name": "stdout",
     "output_type": "stream",
     "text": [
      "Bob Peter\n"
     ]
    }
   ],
   "source": [
    "print_fn(\"Bob\", \"Peter\")"
   ]
  },
  {
   "cell_type": "code",
   "execution_count": 275,
   "metadata": {},
   "outputs": [
    {
     "ename": "TypeError",
     "evalue": "print_fn() takes from 0 to 2 positional arguments but 3 were given",
     "output_type": "error",
     "traceback": [
      "\u001b[0;31m---------------------------------------------------------------------------\u001b[0m",
      "\u001b[0;31mTypeError\u001b[0m                                 Traceback (most recent call last)",
      "Cell \u001b[0;32mIn[275], line 1\u001b[0m\n\u001b[0;32m----> 1\u001b[0m print_fn(\u001b[39m\"\u001b[39;49m\u001b[39mGreg\u001b[39;49m\u001b[39m\"\u001b[39;49m, \u001b[39m\"\u001b[39;49m\u001b[39mClaudia\u001b[39;49m\u001b[39m\"\u001b[39;49m, \u001b[39m\"\u001b[39;49m\u001b[39mBob\u001b[39;49m\u001b[39m\"\u001b[39;49m)\n",
      "\u001b[0;31mTypeError\u001b[0m: print_fn() takes from 0 to 2 positional arguments but 3 were given"
     ]
    }
   ],
   "source": [
    "print_fn(\"Greg\", \"Claudia\", \"Bob\")"
   ]
  },
  {
   "cell_type": "code",
   "execution_count": 277,
   "metadata": {},
   "outputs": [],
   "source": [
    "# Esta funcion acepta un numero indefinido de variables\n",
    "# Incluye los argumentos en una tupla\n",
    "def print_fn(*args):\n",
    "    \n",
    "    args_type = type(args)\n",
    "    print(args_type)\n",
    "\n",
    "    print(args)"
   ]
  },
  {
   "cell_type": "code",
   "execution_count": 278,
   "metadata": {},
   "outputs": [
    {
     "name": "stdout",
     "output_type": "stream",
     "text": [
      "<class 'tuple'>\n",
      "()\n"
     ]
    }
   ],
   "source": [
    "print_fn()"
   ]
  },
  {
   "cell_type": "code",
   "execution_count": 279,
   "metadata": {},
   "outputs": [
    {
     "name": "stdout",
     "output_type": "stream",
     "text": [
      "<class 'tuple'>\n",
      "('Bob',)\n"
     ]
    }
   ],
   "source": [
    "print_fn(\"Bob\")"
   ]
  },
  {
   "cell_type": "code",
   "execution_count": 280,
   "metadata": {},
   "outputs": [
    {
     "name": "stdout",
     "output_type": "stream",
     "text": [
      "<class 'tuple'>\n",
      "('Bob', 'Peter')\n"
     ]
    }
   ],
   "source": [
    "print_fn(\"Bob\", \"Peter\")"
   ]
  },
  {
   "cell_type": "code",
   "execution_count": 281,
   "metadata": {},
   "outputs": [
    {
     "name": "stdout",
     "output_type": "stream",
     "text": [
      "<class 'tuple'>\n",
      "('Greg', 'Claudia', 'Bob')\n"
     ]
    }
   ],
   "source": [
    "print_fn(\"Greg\", \"Claudia\", \"Bob\")"
   ]
  },
  {
   "cell_type": "code",
   "execution_count": 282,
   "metadata": {},
   "outputs": [
    {
     "name": "stdout",
     "output_type": "stream",
     "text": [
      "<class 'tuple'>\n",
      "('Greg', 'Claudia', 'Bob', 'Alice', 'Steve', 'Jim')\n"
     ]
    }
   ],
   "source": [
    "print_fn(\"Greg\", \"Claudia\", \"Bob\", \"Alice\", \"Steve\", \"Jim\")"
   ]
  },
  {
   "cell_type": "code",
   "execution_count": 283,
   "metadata": {},
   "outputs": [],
   "source": [
    "names_list = [\"Greg\", \"Claudia\", \"Bob\", \"Alice\", \"Steve\", \"Jim\"]"
   ]
  },
  {
   "cell_type": "code",
   "execution_count": 284,
   "metadata": {},
   "outputs": [
    {
     "name": "stdout",
     "output_type": "stream",
     "text": [
      "<class 'tuple'>\n",
      "(['Greg', 'Claudia', 'Bob', 'Alice', 'Steve', 'Jim'],)\n"
     ]
    }
   ],
   "source": [
    "print_fn(names_list)"
   ]
  },
  {
   "cell_type": "code",
   "execution_count": 285,
   "metadata": {},
   "outputs": [
    {
     "name": "stdout",
     "output_type": "stream",
     "text": [
      "<class 'tuple'>\n",
      "('Greg', 'Claudia', 'Bob', 'Alice', 'Steve', 'Jim')\n"
     ]
    }
   ],
   "source": [
    "# Desempaqueta la lista para que cada elemento sea un argumento\n",
    "print_fn(*names_list)"
   ]
  },
  {
   "cell_type": "code",
   "execution_count": 1,
   "metadata": {},
   "outputs": [],
   "source": [
    "def students_in_college(college, city, *students):\n",
    "\n",
    "    print(\"College:\", college)\n",
    "    print(\"City:\", city)\n",
    "    print(\"Students:\", students)"
   ]
  },
  {
   "cell_type": "code",
   "execution_count": 2,
   "metadata": {},
   "outputs": [
    {
     "ename": "TypeError",
     "evalue": "students_in_college() missing 2 required positional arguments: 'college' and 'city'",
     "output_type": "error",
     "traceback": [
      "\u001b[0;31m---------------------------------------------------------------------------\u001b[0m",
      "\u001b[0;31mTypeError\u001b[0m                                 Traceback (most recent call last)",
      "Cell \u001b[0;32mIn[2], line 1\u001b[0m\n\u001b[0;32m----> 1\u001b[0m students_in_college()\n",
      "\u001b[0;31mTypeError\u001b[0m: students_in_college() missing 2 required positional arguments: 'college' and 'city'"
     ]
    }
   ],
   "source": [
    "students_in_college()"
   ]
  },
  {
   "cell_type": "code",
   "execution_count": 3,
   "metadata": {},
   "outputs": [
    {
     "ename": "TypeError",
     "evalue": "students_in_college() missing 1 required positional argument: 'city'",
     "output_type": "error",
     "traceback": [
      "\u001b[0;31m---------------------------------------------------------------------------\u001b[0m",
      "\u001b[0;31mTypeError\u001b[0m                                 Traceback (most recent call last)",
      "Cell \u001b[0;32mIn[3], line 1\u001b[0m\n\u001b[0;32m----> 1\u001b[0m students_in_college(\u001b[39m\"\u001b[39;49m\u001b[39mColumbia\u001b[39;49m\u001b[39m\"\u001b[39;49m)\n",
      "\u001b[0;31mTypeError\u001b[0m: students_in_college() missing 1 required positional argument: 'city'"
     ]
    }
   ],
   "source": [
    "students_in_college(\"Columbia\")"
   ]
  },
  {
   "cell_type": "code",
   "execution_count": 4,
   "metadata": {},
   "outputs": [
    {
     "name": "stdout",
     "output_type": "stream",
     "text": [
      "College: Columbia\n",
      "City: New York\n",
      "Students: ()\n"
     ]
    }
   ],
   "source": [
    "students_in_college(\"Columbia\", \"New York\")"
   ]
  },
  {
   "cell_type": "code",
   "execution_count": 5,
   "metadata": {},
   "outputs": [
    {
     "name": "stdout",
     "output_type": "stream",
     "text": [
      "College: Columbia\n",
      "City: New York\n",
      "Students: ('Bob',)\n"
     ]
    }
   ],
   "source": [
    "students_in_college(\"Columbia\", \"New York\", \"Bob\")"
   ]
  },
  {
   "cell_type": "code",
   "execution_count": 6,
   "metadata": {},
   "outputs": [
    {
     "name": "stdout",
     "output_type": "stream",
     "text": [
      "College: Columbia\n",
      "City: New York\n",
      "Students: ('Peter', 'Julie')\n"
     ]
    }
   ],
   "source": [
    "students_in_college(\"Columbia\", \"New York\", \"Peter\", \"Julie\")"
   ]
  },
  {
   "cell_type": "code",
   "execution_count": 8,
   "metadata": {},
   "outputs": [
    {
     "name": "stdout",
     "output_type": "stream",
     "text": [
      "College: Columbia\n",
      "City: New York\n",
      "Students: ('Peter', 'Julie', 'Trista')\n"
     ]
    }
   ],
   "source": [
    "students_in_college(\"Columbia\", \"New York\", \"Peter\", \"Julie\", \"Trista\")"
   ]
  },
  {
   "cell_type": "code",
   "execution_count": 9,
   "metadata": {},
   "outputs": [
    {
     "ename": "SyntaxError",
     "evalue": "positional argument follows keyword argument (2143922844.py, line 1)",
     "output_type": "error",
     "traceback": [
      "\u001b[0;36m  Cell \u001b[0;32mIn[9], line 1\u001b[0;36m\u001b[0m\n\u001b[0;31m    students_in_college(city = \"New York\", college = \"Columbia\", \"Peter\", \"Julie\", \"Trista\")\u001b[0m\n\u001b[0m                                                                                           ^\u001b[0m\n\u001b[0;31mSyntaxError\u001b[0m\u001b[0;31m:\u001b[0m positional argument follows keyword argument\n"
     ]
    }
   ],
   "source": [
    "students_in_college(city = \"New York\", college = \"Columbia\", \"Peter\", \"Julie\", \"Trista\")"
   ]
  },
  {
   "cell_type": "code",
   "execution_count": 13,
   "metadata": {},
   "outputs": [],
   "source": [
    "def students_in_college(*students, college, city):\n",
    "\n",
    "    print(\"College:\", college)\n",
    "    print(\"City:\", city)\n",
    "    print(\"Students:\", students)"
   ]
  },
  {
   "cell_type": "code",
   "execution_count": 14,
   "metadata": {},
   "outputs": [
    {
     "ename": "TypeError",
     "evalue": "students_in_college() missing 2 required keyword-only arguments: 'college' and 'city'",
     "output_type": "error",
     "traceback": [
      "\u001b[0;31m---------------------------------------------------------------------------\u001b[0m",
      "\u001b[0;31mTypeError\u001b[0m                                 Traceback (most recent call last)",
      "Cell \u001b[0;32mIn[14], line 1\u001b[0m\n\u001b[0;32m----> 1\u001b[0m students_in_college(\u001b[39m\"\u001b[39;49m\u001b[39mColumbia\u001b[39;49m\u001b[39m\"\u001b[39;49m, \u001b[39m\"\u001b[39;49m\u001b[39mNew York\u001b[39;49m\u001b[39m\"\u001b[39;49m, \u001b[39m\"\u001b[39;49m\u001b[39mBob\u001b[39;49m\u001b[39m\"\u001b[39;49m)\n",
      "\u001b[0;31mTypeError\u001b[0m: students_in_college() missing 2 required keyword-only arguments: 'college' and 'city'"
     ]
    }
   ],
   "source": [
    "students_in_college(\"Columbia\", \"New York\", \"Bob\")"
   ]
  },
  {
   "cell_type": "code",
   "execution_count": 15,
   "metadata": {},
   "outputs": [
    {
     "name": "stdout",
     "output_type": "stream",
     "text": [
      "College: Columbia\n",
      "City: New York\n",
      "Students: ('Peter', 'Julie', 'Trista')\n"
     ]
    }
   ],
   "source": [
    "students_in_college(\"Peter\", \"Julie\", \"Trista\", college = \"Columbia\", city = \"New York\")"
   ]
  },
  {
   "cell_type": "code",
   "execution_count": 16,
   "metadata": {},
   "outputs": [],
   "source": [
    "def students_in_college(*students, college, city = \"Boston\"):\n",
    "\n",
    "    print(\"College:\", college)\n",
    "    print(\"City:\", city)\n",
    "    print(\"Students:\", students)"
   ]
  },
  {
   "cell_type": "code",
   "execution_count": 17,
   "metadata": {},
   "outputs": [
    {
     "ename": "TypeError",
     "evalue": "students_in_college() missing 1 required keyword-only argument: 'college'",
     "output_type": "error",
     "traceback": [
      "\u001b[0;31m---------------------------------------------------------------------------\u001b[0m",
      "\u001b[0;31mTypeError\u001b[0m                                 Traceback (most recent call last)",
      "Cell \u001b[0;32mIn[17], line 1\u001b[0m\n\u001b[0;32m----> 1\u001b[0m students_in_college(\u001b[39m\"\u001b[39;49m\u001b[39mBob\u001b[39;49m\u001b[39m\"\u001b[39;49m)\n",
      "\u001b[0;31mTypeError\u001b[0m: students_in_college() missing 1 required keyword-only argument: 'college'"
     ]
    }
   ],
   "source": [
    "students_in_college(\"Bob\")"
   ]
  },
  {
   "cell_type": "code",
   "execution_count": 18,
   "metadata": {},
   "outputs": [
    {
     "ename": "TypeError",
     "evalue": "students_in_college() missing 1 required keyword-only argument: 'college'",
     "output_type": "error",
     "traceback": [
      "\u001b[0;31m---------------------------------------------------------------------------\u001b[0m",
      "\u001b[0;31mTypeError\u001b[0m                                 Traceback (most recent call last)",
      "Cell \u001b[0;32mIn[18], line 1\u001b[0m\n\u001b[0;32m----> 1\u001b[0m students_in_college(\u001b[39m\"\u001b[39;49m\u001b[39mBob\u001b[39;49m\u001b[39m\"\u001b[39;49m, \u001b[39m\"\u001b[39;49m\u001b[39mHarvard\u001b[39;49m\u001b[39m\"\u001b[39;49m)\n",
      "\u001b[0;31mTypeError\u001b[0m: students_in_college() missing 1 required keyword-only argument: 'college'"
     ]
    }
   ],
   "source": [
    "students_in_college(\"Bob\", \"Harvard\")"
   ]
  },
  {
   "cell_type": "code",
   "execution_count": 20,
   "metadata": {},
   "outputs": [
    {
     "name": "stdout",
     "output_type": "stream",
     "text": [
      "College: Harvard\n",
      "City: Boston\n",
      "Students: ('Bob', 'Peter')\n"
     ]
    }
   ],
   "source": [
    "students_in_college(\"Bob\", \"Peter\", college = \"Harvard\")"
   ]
  },
  {
   "cell_type": "code",
   "execution_count": 22,
   "metadata": {},
   "outputs": [],
   "source": [
    "# Keyword Arguments de Longitud Variable\n",
    "# Incluye los argumentos en un diccionario\n",
    "\n",
    "def student_details(**kwargs):\n",
    "    \n",
    "    print(type(kwargs))\n",
    "    print(kwargs)"
   ]
  },
  {
   "cell_type": "code",
   "execution_count": 23,
   "metadata": {},
   "outputs": [
    {
     "name": "stdout",
     "output_type": "stream",
     "text": [
      "<class 'dict'>\n",
      "{}\n"
     ]
    }
   ],
   "source": [
    "student_details()"
   ]
  },
  {
   "cell_type": "code",
   "execution_count": 24,
   "metadata": {},
   "outputs": [
    {
     "name": "stdout",
     "output_type": "stream",
     "text": [
      "<class 'dict'>\n",
      "{'name': 'John'}\n"
     ]
    }
   ],
   "source": [
    "student_details(name = \"John\")"
   ]
  },
  {
   "cell_type": "code",
   "execution_count": 25,
   "metadata": {},
   "outputs": [
    {
     "name": "stdout",
     "output_type": "stream",
     "text": [
      "<class 'dict'>\n",
      "{'name': 'John', 'age': 18}\n"
     ]
    }
   ],
   "source": [
    "student_details(name = \"John\", age = 18)"
   ]
  },
  {
   "cell_type": "code",
   "execution_count": 26,
   "metadata": {},
   "outputs": [
    {
     "name": "stdout",
     "output_type": "stream",
     "text": [
      "<class 'dict'>\n",
      "{'name': 'John', 'age': 18, 'college': 'Boston University'}\n"
     ]
    }
   ],
   "source": [
    "student_details(name = \"John\", age = 18, college = \"Boston University\")"
   ]
  },
  {
   "cell_type": "code",
   "execution_count": 28,
   "metadata": {},
   "outputs": [],
   "source": [
    "def student_details(**details):\n",
    "    \n",
    "    for key, value in details.items():\n",
    "        print(key, value)"
   ]
  },
  {
   "cell_type": "code",
   "execution_count": 29,
   "metadata": {},
   "outputs": [
    {
     "name": "stdout",
     "output_type": "stream",
     "text": [
      "name John\n",
      "age 18\n",
      "college Boston University\n"
     ]
    }
   ],
   "source": [
    "student_details(name = \"John\", age = 18, college = \"Boston University\")"
   ]
  },
  {
   "cell_type": "code",
   "execution_count": 30,
   "metadata": {},
   "outputs": [],
   "source": [
    "details_dictionary = {'name': 'John', 'age': 18, 'college': 'Boston University'}"
   ]
  },
  {
   "cell_type": "code",
   "execution_count": 31,
   "metadata": {},
   "outputs": [
    {
     "ename": "TypeError",
     "evalue": "student_details() takes 0 positional arguments but 1 was given",
     "output_type": "error",
     "traceback": [
      "\u001b[0;31m---------------------------------------------------------------------------\u001b[0m",
      "\u001b[0;31mTypeError\u001b[0m                                 Traceback (most recent call last)",
      "Cell \u001b[0;32mIn[31], line 1\u001b[0m\n\u001b[0;32m----> 1\u001b[0m student_details(details_dictionary)\n",
      "\u001b[0;31mTypeError\u001b[0m: student_details() takes 0 positional arguments but 1 was given"
     ]
    }
   ],
   "source": [
    "student_details(details_dictionary)"
   ]
  },
  {
   "cell_type": "code",
   "execution_count": 32,
   "metadata": {},
   "outputs": [
    {
     "name": "stdout",
     "output_type": "stream",
     "text": [
      "name John\n",
      "age 18\n",
      "college Boston University\n"
     ]
    }
   ],
   "source": [
    "student_details(**details_dictionary)"
   ]
  },
  {
   "cell_type": "code",
   "execution_count": 33,
   "metadata": {},
   "outputs": [],
   "source": [
    "def student_details(**details):\n",
    "\n",
    "    if \"name\" in details:\n",
    "        print(\"Name: \", details[\"name\"])\n",
    "    if \"age\" in details:\n",
    "        print(\"Age: \", details[\"age\"])\n",
    "    if \"college\" in details:\n",
    "        print(\"College: \", details[\"college\"])"
   ]
  },
  {
   "cell_type": "code",
   "execution_count": 34,
   "metadata": {},
   "outputs": [
    {
     "name": "stdout",
     "output_type": "stream",
     "text": [
      "Name:  John\n"
     ]
    }
   ],
   "source": [
    "student_details(name = \"John\")"
   ]
  },
  {
   "cell_type": "code",
   "execution_count": 35,
   "metadata": {},
   "outputs": [
    {
     "name": "stdout",
     "output_type": "stream",
     "text": [
      "Name:  John\n",
      "College:  Boston University\n"
     ]
    }
   ],
   "source": [
    "student_details(name = \"John\", college = \"Boston University\")"
   ]
  },
  {
   "cell_type": "code",
   "execution_count": 36,
   "metadata": {},
   "outputs": [
    {
     "name": "stdout",
     "output_type": "stream",
     "text": [
      "Name:  John\n",
      "Age:  21\n",
      "College:  Boston University\n"
     ]
    }
   ],
   "source": [
    "student_details(name = \"John\", college = \"Boston University\", age = 21)"
   ]
  },
  {
   "cell_type": "code",
   "execution_count": 40,
   "metadata": {},
   "outputs": [],
   "source": [
    "def students_in_college(*student_names, **college_details):\n",
    "    \n",
    "    print(\"Students--\")\n",
    "    for name in student_names:\n",
    "        print(name)\n",
    "    \n",
    "    print()\n",
    "\n",
    "    print(\"College Details--\")\n",
    "    for key, value in college_details.items():\n",
    "        print(key, value)"
   ]
  },
  {
   "cell_type": "code",
   "execution_count": 42,
   "metadata": {},
   "outputs": [
    {
     "name": "stdout",
     "output_type": "stream",
     "text": [
      "Students--\n",
      "Allison\n",
      "Bob\n",
      "Charlie\n",
      "\n",
      "College Details--\n",
      "name Stanford\n",
      "city Palo Alto\n"
     ]
    }
   ],
   "source": [
    "students_in_college(\"Allison\", \"Bob\", \"Charlie\", name = \"Stanford\", city = \"Palo Alto\")"
   ]
  },
  {
   "cell_type": "code",
   "execution_count": null,
   "metadata": {},
   "outputs": [],
   "source": []
  }
 ],
 "metadata": {
  "kernelspec": {
   "display_name": "Python 3 (ipykernel)",
   "language": "python",
   "name": "python3"
  },
  "language_info": {
   "codemirror_mode": {
    "name": "ipython",
    "version": 3
   },
   "file_extension": ".py",
   "mimetype": "text/x-python",
   "name": "python",
   "nbconvert_exporter": "python",
   "pygments_lexer": "ipython3",
   "version": "3.10.8"
  },
  "orig_nbformat": 4
 },
 "nbformat": 4,
 "nbformat_minor": 2
}
