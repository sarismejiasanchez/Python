{
 "cells": [
  {
   "cell_type": "code",
   "execution_count": 213,
   "metadata": {},
   "outputs": [],
   "source": [
    "def print_student_details(name, school, \n",
    "                          math, physics, chemistry, biology,\n",
    "                          enrolled):\n",
    "\n",
    "    total = math + physics + chemistry + biology\n",
    "\n",
    "    print(\"Name:\", name)\n",
    "    print(\"School:\", school, \"Enrolled:\", enrolled)\n",
    "    print(\"Score:\", total)"
   ]
  },
  {
   "cell_type": "code",
   "execution_count": 214,
   "metadata": {},
   "outputs": [
    {
     "name": "stdout",
     "output_type": "stream",
     "text": [
      "Name: Alice\n",
      "School: Columbia Enrolled: True\n",
      "Score: 339\n"
     ]
    }
   ],
   "source": [
    "print_student_details(name = \"Alice\", school = \"Columbia\", \n",
    "                      math = 100, physics = 76, chemistry = 64, biology = 99,\n",
    "                      enrolled = True\n",
    ") "
   ]
  },
  {
   "cell_type": "code",
   "execution_count": 215,
   "metadata": {},
   "outputs": [
    {
     "ename": "TypeError",
     "evalue": "print_student_details() missing 1 required positional argument: 'enrolled'",
     "output_type": "error",
     "traceback": [
      "\u001b[0;31m---------------------------------------------------------------------------\u001b[0m",
      "\u001b[0;31mTypeError\u001b[0m                                 Traceback (most recent call last)",
      "Cell \u001b[0;32mIn[215], line 1\u001b[0m\n\u001b[0;32m----> 1\u001b[0m print_student_details(name \u001b[39m=\u001b[39;49m \u001b[39m\"\u001b[39;49m\u001b[39mAlice\u001b[39;49m\u001b[39m\"\u001b[39;49m, school \u001b[39m=\u001b[39;49m \u001b[39m\"\u001b[39;49m\u001b[39mColumbia\u001b[39;49m\u001b[39m\"\u001b[39;49m, \n\u001b[1;32m      2\u001b[0m                       math \u001b[39m=\u001b[39;49m \u001b[39m100\u001b[39;49m, physics \u001b[39m=\u001b[39;49m \u001b[39m76\u001b[39;49m, chemistry \u001b[39m=\u001b[39;49m \u001b[39m64\u001b[39;49m, biology \u001b[39m=\u001b[39;49m \u001b[39m99\u001b[39;49m\n\u001b[1;32m      3\u001b[0m ) \n",
      "\u001b[0;31mTypeError\u001b[0m: print_student_details() missing 1 required positional argument: 'enrolled'"
     ]
    }
   ],
   "source": [
    "print_student_details(name = \"Alice\", school = \"Columbia\", \n",
    "                      math = 100, physics = 76, chemistry = 64, biology = 99\n",
    ") "
   ]
  },
  {
   "cell_type": "code",
   "execution_count": 216,
   "metadata": {},
   "outputs": [],
   "source": [
    "# Default value enrolled = False\n",
    "def print_student_details(name, school, \n",
    "                          math, physics, chemistry, biology,\n",
    "                          enrolled = False):\n",
    "\n",
    "    total = math + physics + chemistry + biology\n",
    "\n",
    "    print(\"Name:\", name)\n",
    "    print(\"School:\", school, \"Enrolled:\", enrolled)\n",
    "    print(\"Score:\", total)"
   ]
  },
  {
   "cell_type": "code",
   "execution_count": 217,
   "metadata": {},
   "outputs": [
    {
     "name": "stdout",
     "output_type": "stream",
     "text": [
      "Name: Alice\n",
      "School: Columbia Enrolled: False\n",
      "Score: 339\n"
     ]
    }
   ],
   "source": [
    "print_student_details(name = \"Alice\", school = \"Columbia\", \n",
    "                      math = 100, physics = 76, chemistry = 64, biology = 99\n",
    ") "
   ]
  },
  {
   "cell_type": "code",
   "execution_count": 218,
   "metadata": {},
   "outputs": [
    {
     "name": "stdout",
     "output_type": "stream",
     "text": [
      "Name: Alice\n",
      "School: Columbia Enrolled: True\n",
      "Score: 339\n"
     ]
    }
   ],
   "source": [
    "print_student_details(name = \"Alice\", school = \"Columbia\", \n",
    "                      math = 100, physics = 76, chemistry = 64, biology = 99,\n",
    "                      enrolled = True\n",
    ") "
   ]
  },
  {
   "cell_type": "code",
   "execution_count": 219,
   "metadata": {},
   "outputs": [
    {
     "name": "stdout",
     "output_type": "stream",
     "text": [
      "Name: Alice\n",
      "School: Columbia Enrolled: False\n",
      "Score: 339\n"
     ]
    }
   ],
   "source": [
    "print_student_details(name = \"Alice\", school = \"Columbia\", \n",
    "                      math = 100, physics = 76, chemistry = 64, biology = 99,\n",
    "                      enrolled = False\n",
    ") "
   ]
  },
  {
   "cell_type": "code",
   "execution_count": 222,
   "metadata": {},
   "outputs": [],
   "source": [
    "# Default values biology = 50, enrolled = False\n",
    "def print_student_details(name, school, \n",
    "                          math, physics, chemistry, biology = 50,\n",
    "                          enrolled = False):\n",
    "\n",
    "    total = math + physics + chemistry + biology\n",
    "\n",
    "    print(\"Name:\", name)\n",
    "    print(\"School:\", school, \"Enrolled:\", enrolled)\n",
    "    print(\"Biology:\", biology)\n",
    "    print(\"Score:\", total)"
   ]
  },
  {
   "cell_type": "code",
   "execution_count": 223,
   "metadata": {},
   "outputs": [
    {
     "name": "stdout",
     "output_type": "stream",
     "text": [
      "Name: Alice\n",
      "School: Columbia Enrolled: False\n",
      "Biology: 99\n",
      "Score: 339\n"
     ]
    }
   ],
   "source": [
    "print_student_details(name = \"Alice\", school = \"Columbia\", \n",
    "                      math = 100, physics = 76, chemistry = 64, biology = 99\n",
    ") "
   ]
  },
  {
   "cell_type": "code",
   "execution_count": 224,
   "metadata": {},
   "outputs": [
    {
     "name": "stdout",
     "output_type": "stream",
     "text": [
      "Name: Alice\n",
      "School: Columbia Enrolled: False\n",
      "Biology: 50\n",
      "Score: 290\n"
     ]
    }
   ],
   "source": [
    "print_student_details(name = \"Alice\", school = \"Columbia\", \n",
    "                      math = 100, physics = 76, chemistry = 64\n",
    ") "
   ]
  },
  {
   "cell_type": "code",
   "execution_count": 225,
   "metadata": {},
   "outputs": [
    {
     "ename": "TypeError",
     "evalue": "print_student_details() missing 1 required positional argument: 'chemistry'",
     "output_type": "error",
     "traceback": [
      "\u001b[0;31m---------------------------------------------------------------------------\u001b[0m",
      "\u001b[0;31mTypeError\u001b[0m                                 Traceback (most recent call last)",
      "Cell \u001b[0;32mIn[225], line 1\u001b[0m\n\u001b[0;32m----> 1\u001b[0m print_student_details(name \u001b[39m=\u001b[39;49m \u001b[39m\"\u001b[39;49m\u001b[39mAlice\u001b[39;49m\u001b[39m\"\u001b[39;49m, school \u001b[39m=\u001b[39;49m \u001b[39m\"\u001b[39;49m\u001b[39mColumbia\u001b[39;49m\u001b[39m\"\u001b[39;49m, \n\u001b[1;32m      2\u001b[0m                       math \u001b[39m=\u001b[39;49m \u001b[39m100\u001b[39;49m, physics \u001b[39m=\u001b[39;49m \u001b[39m76\u001b[39;49m\n\u001b[1;32m      3\u001b[0m ) \n",
      "\u001b[0;31mTypeError\u001b[0m: print_student_details() missing 1 required positional argument: 'chemistry'"
     ]
    }
   ],
   "source": [
    "print_student_details(name = \"Alice\", school = \"Columbia\", \n",
    "                      math = 100, physics = 76\n",
    ") "
   ]
  },
  {
   "cell_type": "code",
   "execution_count": 226,
   "metadata": {},
   "outputs": [],
   "source": [
    "# Default values chemistry = 50, biology = 50, enrolled = False\n",
    "def print_student_details(name, school, \n",
    "                          math, physics, chemistry = 50, biology = 50,\n",
    "                          enrolled = False):\n",
    "\n",
    "    total = math + physics + chemistry + biology\n",
    "\n",
    "    print(\"Name:\", name)\n",
    "    print(\"School:\", school, \"Enrolled:\", enrolled)\n",
    "    print(\"Chemistry:\", chemistry)\n",
    "    print(\"Biology:\", biology)\n",
    "    print(\"Score:\", total)"
   ]
  },
  {
   "cell_type": "code",
   "execution_count": 228,
   "metadata": {},
   "outputs": [
    {
     "name": "stdout",
     "output_type": "stream",
     "text": [
      "Name: Alice\n",
      "School: Columbia Enrolled: False\n",
      "Chemistry: 64\n",
      "Biology: 50\n",
      "Score: 290\n"
     ]
    }
   ],
   "source": [
    "print_student_details(name = \"Alice\", school = \"Columbia\", \n",
    "                      math = 100, physics = 76, chemistry = 64\n",
    ") "
   ]
  },
  {
   "cell_type": "code",
   "execution_count": 229,
   "metadata": {},
   "outputs": [
    {
     "name": "stdout",
     "output_type": "stream",
     "text": [
      "Name: Alice\n",
      "School: Columbia Enrolled: False\n",
      "Chemistry: 50\n",
      "Biology: 50\n",
      "Score: 276\n"
     ]
    }
   ],
   "source": [
    "print_student_details(name = \"Alice\", school = \"Columbia\", \n",
    "                      math = 100, physics = 76\n",
    ") "
   ]
  },
  {
   "cell_type": "code",
   "execution_count": 231,
   "metadata": {},
   "outputs": [
    {
     "ename": "SyntaxError",
     "evalue": "non-default argument follows default argument (745340991.py, line 3)",
     "output_type": "error",
     "traceback": [
      "\u001b[0;36m  Cell \u001b[0;32mIn[231], line 3\u001b[0;36m\u001b[0m\n\u001b[0;31m    math = 50, physics, chemistry = 50, biology = 50,\u001b[0m\n\u001b[0m               ^\u001b[0m\n\u001b[0;31mSyntaxError\u001b[0m\u001b[0;31m:\u001b[0m non-default argument follows default argument\n"
     ]
    }
   ],
   "source": [
    "\"\"\"\n",
    "    No se pueden definir argumentos sin default value despues de argumentos con default value\n",
    "    Todos los argumentos con default value deben definirse al final de la lista de argumentos\n",
    "\"\"\"\n",
    "\n",
    "def print_student_details(name, school, \n",
    "                          math = 50, physics, chemistry = 50, biology = 50,\n",
    "                          enrolled = False):\n",
    "\n",
    "    total = math + physics + chemistry + biology\n",
    "\n",
    "    print(\"Name:\", name)\n",
    "    print(\"School:\", school, \"Enrolled:\", enrolled)\n",
    "    print(\"Chemistry:\", chemistry)\n",
    "    print(\"Biology:\", biology)\n",
    "    print(\"Score:\", total)"
   ]
  },
  {
   "cell_type": "code",
   "execution_count": 232,
   "metadata": {},
   "outputs": [
    {
     "ename": "SyntaxError",
     "evalue": "non-default argument follows default argument (1164446195.py, line 2)",
     "output_type": "error",
     "traceback": [
      "\u001b[0;36m  Cell \u001b[0;32mIn[232], line 2\u001b[0;36m\u001b[0m\n\u001b[0;31m    math, physics, chemistry = 50, biology = 50,\u001b[0m\n\u001b[0m    ^\u001b[0m\n\u001b[0;31mSyntaxError\u001b[0m\u001b[0;31m:\u001b[0m non-default argument follows default argument\n"
     ]
    }
   ],
   "source": [
    "def print_student_details(name, school = \"Harvard\", \n",
    "                          math, physics, chemistry = 50, biology = 50,\n",
    "                          enrolled = False):\n",
    "\n",
    "    total = math + physics + chemistry + biology\n",
    "\n",
    "    print(\"Name:\", name)\n",
    "    print(\"School:\", school, \"Enrolled:\", enrolled)\n",
    "    print(\"Chemistry:\", chemistry)\n",
    "    print(\"Biology:\", biology)\n",
    "    print(\"Score:\", total)"
   ]
  },
  {
   "cell_type": "code",
   "execution_count": 233,
   "metadata": {},
   "outputs": [
    {
     "ename": "SyntaxError",
     "evalue": "non-default argument follows default argument (1393544930.py, line 1)",
     "output_type": "error",
     "traceback": [
      "\u001b[0;36m  Cell \u001b[0;32mIn[233], line 1\u001b[0;36m\u001b[0m\n\u001b[0;31m    def print_student_details(name = \"Mark\", school,\u001b[0m\n\u001b[0m                                             ^\u001b[0m\n\u001b[0;31mSyntaxError\u001b[0m\u001b[0;31m:\u001b[0m non-default argument follows default argument\n"
     ]
    }
   ],
   "source": [
    "def print_student_details(name = \"Mark\", school, \n",
    "                          math = 50, physics, chemistry = 50, biology = 50,\n",
    "                          enrolled = False):\n",
    "\n",
    "    total = math + physics + chemistry + biology\n",
    "\n",
    "    print(\"Name:\", name)\n",
    "    print(\"School:\", school, \"Enrolled:\", enrolled)\n",
    "    print(\"Chemistry:\", chemistry)\n",
    "    print(\"Biology:\", biology)\n",
    "    print(\"Score:\", total)"
   ]
  },
  {
   "cell_type": "code",
   "execution_count": 237,
   "metadata": {},
   "outputs": [],
   "source": [
    "# Esta es una definicion correcta con default values\n",
    "def print_student_details(name = \"Mark\", school = \"Harvard\", \n",
    "                          math = 50, physics = 50, chemistry = 50, biology = 50,\n",
    "                          enrolled = False):\n",
    "\n",
    "    total = math + physics + chemistry + biology\n",
    "\n",
    "    print(\"Name:\", name)\n",
    "    print(\"School:\", school, \"Enrolled:\", enrolled)\n",
    "    print(\"Math:\", math)\n",
    "    print(\"Physics:\", physics)\n",
    "    print(\"Chemistry:\", chemistry)\n",
    "    print(\"Biology:\", biology)\n",
    "    print(\"Score:\", total)"
   ]
  },
  {
   "cell_type": "code",
   "execution_count": 238,
   "metadata": {},
   "outputs": [
    {
     "name": "stdout",
     "output_type": "stream",
     "text": [
      "Name: Mark\n",
      "School: Harvard Enrolled: False\n",
      "Math: 50\n",
      "Physics: 50\n",
      "Chemistry: 50\n",
      "Biology: 50\n",
      "Score: 200\n"
     ]
    }
   ],
   "source": [
    "print_student_details()"
   ]
  },
  {
   "cell_type": "code",
   "execution_count": 239,
   "metadata": {},
   "outputs": [
    {
     "name": "stdout",
     "output_type": "stream",
     "text": [
      "Name: Alice\n",
      "School: Harvard Enrolled: False\n",
      "Math: 50\n",
      "Physics: 50\n",
      "Chemistry: 50\n",
      "Biology: 50\n",
      "Score: 200\n"
     ]
    }
   ],
   "source": [
    "print_student_details(\"Alice\")"
   ]
  },
  {
   "cell_type": "code",
   "execution_count": 240,
   "metadata": {},
   "outputs": [
    {
     "name": "stdout",
     "output_type": "stream",
     "text": [
      "Name: Alice\n",
      "School: Columbia Enrolled: False\n",
      "Math: 50\n",
      "Physics: 50\n",
      "Chemistry: 50\n",
      "Biology: 50\n",
      "Score: 200\n"
     ]
    }
   ],
   "source": [
    "print_student_details(\"Alice\", \"Columbia\")"
   ]
  },
  {
   "cell_type": "code",
   "execution_count": 241,
   "metadata": {},
   "outputs": [
    {
     "name": "stdout",
     "output_type": "stream",
     "text": [
      "Name: Alice\n",
      "School: Columbia Enrolled: True\n",
      "Math: 99\n",
      "Physics: 50\n",
      "Chemistry: 50\n",
      "Biology: 66\n",
      "Score: 265\n"
     ]
    }
   ],
   "source": [
    "print_student_details(\"Alice\", \"Columbia\", 99, biology = 66, enrolled = True)"
   ]
  },
  {
   "cell_type": "code",
   "execution_count": null,
   "metadata": {},
   "outputs": [],
   "source": []
  }
 ],
 "metadata": {
  "kernelspec": {
   "display_name": "Python 3 (ipykernel)",
   "language": "python",
   "name": "python3"
  },
  "language_info": {
   "codemirror_mode": {
    "name": "ipython",
    "version": 3
   },
   "file_extension": ".py",
   "mimetype": "text/x-python",
   "name": "python",
   "nbconvert_exporter": "python",
   "pygments_lexer": "ipython3",
   "version": "3.10.8"
  },
  "orig_nbformat": 4
 },
 "nbformat": 4,
 "nbformat_minor": 2
}
