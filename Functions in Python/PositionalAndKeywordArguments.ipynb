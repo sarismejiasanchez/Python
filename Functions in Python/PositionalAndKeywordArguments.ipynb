{
 "cells": [
  {
   "cell_type": "code",
   "execution_count": 158,
   "metadata": {},
   "outputs": [],
   "source": [
    "def introduction(name, city):\n",
    "    print(\"Hello, my name is\", name)\n",
    "    print(\"I live and work in\", city)"
   ]
  },
  {
   "cell_type": "code",
   "execution_count": 160,
   "metadata": {},
   "outputs": [
    {
     "ename": "TypeError",
     "evalue": "introduction() missing 2 required positional arguments: 'name' and 'city'",
     "output_type": "error",
     "traceback": [
      "\u001b[0;31m---------------------------------------------------------------------------\u001b[0m",
      "\u001b[0;31mTypeError\u001b[0m                                 Traceback (most recent call last)",
      "Cell \u001b[0;32mIn[160], line 1\u001b[0m\n\u001b[0;32m----> 1\u001b[0m introduction()\n",
      "\u001b[0;31mTypeError\u001b[0m: introduction() missing 2 required positional arguments: 'name' and 'city'"
     ]
    }
   ],
   "source": [
    "introduction()"
   ]
  },
  {
   "cell_type": "code",
   "execution_count": 161,
   "metadata": {},
   "outputs": [
    {
     "ename": "TypeError",
     "evalue": "introduction() missing 1 required positional argument: 'city'",
     "output_type": "error",
     "traceback": [
      "\u001b[0;31m---------------------------------------------------------------------------\u001b[0m",
      "\u001b[0;31mTypeError\u001b[0m                                 Traceback (most recent call last)",
      "Cell \u001b[0;32mIn[161], line 1\u001b[0m\n\u001b[0;32m----> 1\u001b[0m introduction(\u001b[39m\"\u001b[39;49m\u001b[39mRose\u001b[39;49m\u001b[39m\"\u001b[39;49m)\n",
      "\u001b[0;31mTypeError\u001b[0m: introduction() missing 1 required positional argument: 'city'"
     ]
    }
   ],
   "source": [
    "introduction(\"Rose\")"
   ]
  },
  {
   "cell_type": "code",
   "execution_count": 162,
   "metadata": {},
   "outputs": [
    {
     "name": "stdout",
     "output_type": "stream",
     "text": [
      "Hello, my name is Rose\n",
      "I live and work in San Jose\n"
     ]
    }
   ],
   "source": [
    "introduction(\"Rose\", \"San Jose\")"
   ]
  },
  {
   "cell_type": "code",
   "execution_count": 163,
   "metadata": {},
   "outputs": [
    {
     "ename": "TypeError",
     "evalue": "sum_of() missing 1 required positional argument: 'num_3'",
     "output_type": "error",
     "traceback": [
      "\u001b[0;31m---------------------------------------------------------------------------\u001b[0m",
      "\u001b[0;31mTypeError\u001b[0m                                 Traceback (most recent call last)",
      "Cell \u001b[0;32mIn[163], line 4\u001b[0m\n\u001b[1;32m      1\u001b[0m \u001b[39mdef\u001b[39;00m \u001b[39msum_of\u001b[39m(num_1, num_2, num_3):\n\u001b[1;32m      2\u001b[0m     \u001b[39mreturn\u001b[39;00m(num_1 \u001b[39m+\u001b[39m num_2 \u001b[39m+\u001b[39m num_3)\n\u001b[0;32m----> 4\u001b[0m sum_of(\u001b[39m25\u001b[39;49m, \u001b[39m34\u001b[39;49m)\n",
      "\u001b[0;31mTypeError\u001b[0m: sum_of() missing 1 required positional argument: 'num_3'"
     ]
    }
   ],
   "source": [
    "def sum_of(num_1, num_2, num_3):\n",
    "    return(num_1 + num_2 + num_3)\n",
    "\n",
    "sum_of(25, 34)"
   ]
  },
  {
   "cell_type": "code",
   "execution_count": 164,
   "metadata": {},
   "outputs": [],
   "source": [
    "def total_score(math, physics, chemistry, biology):\n",
    "\n",
    "    print(\"Math:\", math, \"Physics:\", physics, \"Chemistry:\", chemistry, \"Biology:\", biology)\n",
    "    return math + physics + chemistry + biology"
   ]
  },
  {
   "cell_type": "code",
   "execution_count": 165,
   "metadata": {},
   "outputs": [
    {
     "name": "stdout",
     "output_type": "stream",
     "text": [
      "Math: 100 Physics: 56 Chemistry: 34 Biology: 99\n"
     ]
    },
    {
     "data": {
      "text/plain": [
       "289"
      ]
     },
     "execution_count": 165,
     "metadata": {},
     "output_type": "execute_result"
    }
   ],
   "source": [
    "total_score(100, 56, 34, 99)"
   ]
  },
  {
   "cell_type": "code",
   "execution_count": 166,
   "metadata": {},
   "outputs": [
    {
     "name": "stdout",
     "output_type": "stream",
     "text": [
      "Math: 100 Physics: 56 Chemistry: 34 Biology: 99\n"
     ]
    },
    {
     "data": {
      "text/plain": [
       "289"
      ]
     },
     "execution_count": 166,
     "metadata": {},
     "output_type": "execute_result"
    }
   ],
   "source": [
    "total_score(math = 100, physics = 56, chemistry = 34, biology = 99)"
   ]
  },
  {
   "cell_type": "code",
   "execution_count": 167,
   "metadata": {},
   "outputs": [
    {
     "ename": "TypeError",
     "evalue": "total_score() got an unexpected keyword argument 'chem'",
     "output_type": "error",
     "traceback": [
      "\u001b[0;31m---------------------------------------------------------------------------\u001b[0m",
      "\u001b[0;31mTypeError\u001b[0m                                 Traceback (most recent call last)",
      "Cell \u001b[0;32mIn[167], line 1\u001b[0m\n\u001b[0;32m----> 1\u001b[0m total_score(math \u001b[39m=\u001b[39;49m \u001b[39m100\u001b[39;49m, physics \u001b[39m=\u001b[39;49m \u001b[39m56\u001b[39;49m, chem \u001b[39m=\u001b[39;49m \u001b[39m34\u001b[39;49m, biology \u001b[39m=\u001b[39;49m \u001b[39m99\u001b[39;49m)\n",
      "\u001b[0;31mTypeError\u001b[0m: total_score() got an unexpected keyword argument 'chem'"
     ]
    }
   ],
   "source": [
    "total_score(math = 100, physics = 56, chem = 34, biology = 99)"
   ]
  },
  {
   "cell_type": "code",
   "execution_count": 168,
   "metadata": {},
   "outputs": [
    {
     "ename": "TypeError",
     "evalue": "total_score() got an unexpected keyword argument 'ma'",
     "output_type": "error",
     "traceback": [
      "\u001b[0;31m---------------------------------------------------------------------------\u001b[0m",
      "\u001b[0;31mTypeError\u001b[0m                                 Traceback (most recent call last)",
      "Cell \u001b[0;32mIn[168], line 1\u001b[0m\n\u001b[0;32m----> 1\u001b[0m total_score(ma \u001b[39m=\u001b[39;49m \u001b[39m100\u001b[39;49m, phy \u001b[39m=\u001b[39;49m \u001b[39m56\u001b[39;49m, chemistry \u001b[39m=\u001b[39;49m \u001b[39m34\u001b[39;49m, biology \u001b[39m=\u001b[39;49m \u001b[39m99\u001b[39;49m)\n",
      "\u001b[0;31mTypeError\u001b[0m: total_score() got an unexpected keyword argument 'ma'"
     ]
    }
   ],
   "source": [
    "total_score(ma = 100, phy = 56, chemistry = 34, biology = 99)"
   ]
  },
  {
   "cell_type": "code",
   "execution_count": 174,
   "metadata": {},
   "outputs": [
    {
     "name": "stdout",
     "output_type": "stream",
     "text": [
      "Math: 100 Physics: 56 Chemistry: 34 Biology: 99\n"
     ]
    },
    {
     "data": {
      "text/plain": [
       "289"
      ]
     },
     "execution_count": 174,
     "metadata": {},
     "output_type": "execute_result"
    }
   ],
   "source": [
    "total_score(100, physics = 56, chemistry = 34, biology = 99)"
   ]
  },
  {
   "cell_type": "code",
   "execution_count": 175,
   "metadata": {},
   "outputs": [
    {
     "ename": "TypeError",
     "evalue": "total_score() got multiple values for argument 'math'",
     "output_type": "error",
     "traceback": [
      "\u001b[0;31m---------------------------------------------------------------------------\u001b[0m",
      "\u001b[0;31mTypeError\u001b[0m                                 Traceback (most recent call last)",
      "Cell \u001b[0;32mIn[175], line 1\u001b[0m\n\u001b[0;32m----> 1\u001b[0m total_score(\u001b[39m100\u001b[39;49m, physics \u001b[39m=\u001b[39;49m \u001b[39m56\u001b[39;49m, chemistry \u001b[39m=\u001b[39;49m \u001b[39m34\u001b[39;49m, biology \u001b[39m=\u001b[39;49m \u001b[39m99\u001b[39;49m, math \u001b[39m=\u001b[39;49m \u001b[39m200\u001b[39;49m)\n",
      "\u001b[0;31mTypeError\u001b[0m: total_score() got multiple values for argument 'math'"
     ]
    }
   ],
   "source": [
    "total_score(100, physics = 56, chemistry = 34, biology = 99, math = 200)"
   ]
  },
  {
   "cell_type": "code",
   "execution_count": 176,
   "metadata": {},
   "outputs": [
    {
     "name": "stdout",
     "output_type": "stream",
     "text": [
      "Math: 100 Physics: 56 Chemistry: 34 Biology: 99\n"
     ]
    },
    {
     "data": {
      "text/plain": [
       "289"
      ]
     },
     "execution_count": 176,
     "metadata": {},
     "output_type": "execute_result"
    }
   ],
   "source": [
    "total_score(100, 56, chemistry = 34, biology = 99)"
   ]
  },
  {
   "cell_type": "code",
   "execution_count": 177,
   "metadata": {},
   "outputs": [
    {
     "name": "stdout",
     "output_type": "stream",
     "text": [
      "Math: 100 Physics: 56 Chemistry: 34 Biology: 99\n"
     ]
    },
    {
     "data": {
      "text/plain": [
       "289"
      ]
     },
     "execution_count": 177,
     "metadata": {},
     "output_type": "execute_result"
    }
   ],
   "source": [
    "total_score(100, 56, 34, biology = 99)"
   ]
  },
  {
   "cell_type": "code",
   "execution_count": 186,
   "metadata": {},
   "outputs": [
    {
     "ename": "SyntaxError",
     "evalue": "positional argument follows keyword argument (2416989373.py, line 6)",
     "output_type": "error",
     "traceback": [
      "\u001b[0;36m  Cell \u001b[0;32mIn[186], line 6\u001b[0;36m\u001b[0m\n\u001b[0;31m    total_score(math = 100, 56, chemistry = 34, biology = 99)\u001b[0m\n\u001b[0m                                                            ^\u001b[0m\n\u001b[0;31mSyntaxError\u001b[0m\u001b[0;31m:\u001b[0m positional argument follows keyword argument\n"
     ]
    }
   ],
   "source": [
    "\"\"\"\n",
    "    Primero se deben especificar todos los pisitional arguments,\n",
    "    a continuacion los keyword arguments.\n",
    "    No se pueden especificar positional arguments entre/despues de keyword arguments.\n",
    "\"\"\"\n",
    "total_score(math = 100, 56, chemistry = 34, biology = 99)"
   ]
  },
  {
   "cell_type": "code",
   "execution_count": 187,
   "metadata": {},
   "outputs": [
    {
     "ename": "SyntaxError",
     "evalue": "positional argument follows keyword argument (1242493766.py, line 1)",
     "output_type": "error",
     "traceback": [
      "\u001b[0;36m  Cell \u001b[0;32mIn[187], line 1\u001b[0;36m\u001b[0m\n\u001b[0;31m    total_score(math = 100, physics = 56, 34, biology = 99)\u001b[0m\n\u001b[0m                                                          ^\u001b[0m\n\u001b[0;31mSyntaxError\u001b[0m\u001b[0;31m:\u001b[0m positional argument follows keyword argument\n"
     ]
    }
   ],
   "source": [
    "total_score(math = 100, physics = 56, 34, biology = 99)"
   ]
  },
  {
   "cell_type": "code",
   "execution_count": 188,
   "metadata": {},
   "outputs": [
    {
     "ename": "SyntaxError",
     "evalue": "positional argument follows keyword argument (3684103033.py, line 1)",
     "output_type": "error",
     "traceback": [
      "\u001b[0;36m  Cell \u001b[0;32mIn[188], line 1\u001b[0;36m\u001b[0m\n\u001b[0;31m    total_score(math = 100, physics = 56, chemistry = 34, 99)\u001b[0m\n\u001b[0m                                                            ^\u001b[0m\n\u001b[0;31mSyntaxError\u001b[0m\u001b[0;31m:\u001b[0m positional argument follows keyword argument\n"
     ]
    }
   ],
   "source": [
    "total_score(math = 100, physics = 56, chemistry = 34, 99)"
   ]
  },
  {
   "cell_type": "code",
   "execution_count": 189,
   "metadata": {},
   "outputs": [
    {
     "name": "stdout",
     "output_type": "stream",
     "text": [
      "Math: 100 Physics: 56 Chemistry: 34 Biology: 99\n"
     ]
    },
    {
     "data": {
      "text/plain": [
       "289"
      ]
     },
     "execution_count": 189,
     "metadata": {},
     "output_type": "execute_result"
    }
   ],
   "source": [
    "# Los argumentos se pueden especificar en un orden diferente al de la declaracion de la funcion\n",
    "total_score(biology = 99, math = 100, physics = 56, chemistry = 34)"
   ]
  },
  {
   "cell_type": "code",
   "execution_count": 190,
   "metadata": {},
   "outputs": [
    {
     "name": "stdout",
     "output_type": "stream",
     "text": [
      "Math: 100 Physics: 56 Chemistry: 34 Biology: 99\n"
     ]
    },
    {
     "data": {
      "text/plain": [
       "289"
      ]
     },
     "execution_count": 190,
     "metadata": {},
     "output_type": "execute_result"
    }
   ],
   "source": [
    "total_score(chemistry = 34, biology = 99, math = 100, physics = 56)"
   ]
  },
  {
   "cell_type": "code",
   "execution_count": 191,
   "metadata": {},
   "outputs": [
    {
     "ename": "TypeError",
     "evalue": "total_score() got multiple values for argument 'math'",
     "output_type": "error",
     "traceback": [
      "\u001b[0;31m---------------------------------------------------------------------------\u001b[0m",
      "\u001b[0;31mTypeError\u001b[0m                                 Traceback (most recent call last)",
      "Cell \u001b[0;32mIn[191], line 2\u001b[0m\n\u001b[1;32m      1\u001b[0m \u001b[39m# No se pueden especificar varios valores para el mismo argumento\u001b[39;00m\n\u001b[0;32m----> 2\u001b[0m total_score(\u001b[39m34\u001b[39;49m, biology \u001b[39m=\u001b[39;49m \u001b[39m99\u001b[39;49m, math \u001b[39m=\u001b[39;49m \u001b[39m100\u001b[39;49m, physics \u001b[39m=\u001b[39;49m \u001b[39m56\u001b[39;49m)\n",
      "\u001b[0;31mTypeError\u001b[0m: total_score() got multiple values for argument 'math'"
     ]
    }
   ],
   "source": [
    "# No se pueden especificar varios valores para el mismo argumento\n",
    "total_score(34, biology = 99, math = 100, physics = 56)"
   ]
  },
  {
   "cell_type": "code",
   "execution_count": 195,
   "metadata": {},
   "outputs": [
    {
     "ename": "SyntaxError",
     "evalue": "keyword argument repeated: physics (1613493023.py, line 2)",
     "output_type": "error",
     "traceback": [
      "\u001b[0;36m  Cell \u001b[0;32mIn[195], line 2\u001b[0;36m\u001b[0m\n\u001b[0;31m    total_score(physics = 34, biology = 99, math = 100, physics = 56)\u001b[0m\n\u001b[0m                                                        ^\u001b[0m\n\u001b[0;31mSyntaxError\u001b[0m\u001b[0;31m:\u001b[0m keyword argument repeated: physics\n"
     ]
    }
   ],
   "source": [
    "# No se pueden repetir keyword argument\n",
    "total_score(physics = 34, biology = 99, math = 100, physics = 56)"
   ]
  },
  {
   "cell_type": "code",
   "execution_count": 196,
   "metadata": {},
   "outputs": [],
   "source": [
    "def print_student_details(name, school, math, physics, chemistry, biology):\n",
    "\n",
    "    total = math + physics + chemistry + biology\n",
    "\n",
    "    print(\"Name:\", name)\n",
    "    print(\"School:\", school)\n",
    "    print(\"Score:\", total)"
   ]
  },
  {
   "cell_type": "code",
   "execution_count": 197,
   "metadata": {},
   "outputs": [
    {
     "name": "stdout",
     "output_type": "stream",
     "text": [
      "Name: Alice\n",
      "School: Columbia\n",
      "Score: 339\n"
     ]
    }
   ],
   "source": [
    "print_student_details(\n",
    "    \"Alice\", \"Columbia\",\n",
    "    math = 100, physics = 76, chemistry = 64, biology = 99\n",
    ")"
   ]
  },
  {
   "cell_type": "code",
   "execution_count": 198,
   "metadata": {},
   "outputs": [
    {
     "name": "stdout",
     "output_type": "stream",
     "text": [
      "Name: Columbia\n",
      "School: Alice\n",
      "Score: 339\n"
     ]
    }
   ],
   "source": [
    "print_student_details(\n",
    "    \"Columbia\", \"Alice\",\n",
    "    math = 100, physics = 76, chemistry = 64, biology = 99\n",
    ")"
   ]
  },
  {
   "cell_type": "code",
   "execution_count": 200,
   "metadata": {},
   "outputs": [
    {
     "name": "stdout",
     "output_type": "stream",
     "text": [
      "Name: Alice\n",
      "School: Columbia\n",
      "Score: 339\n"
     ]
    }
   ],
   "source": [
    "# Siempre es recomendable usar keyword arguments en lugar de positiona arguments\n",
    "print_student_details(\n",
    "    name = \"Alice\", school = \"Columbia\", \n",
    "    math = 100, physics = 76, chemistry = 64, biology = 99\n",
    ")"
   ]
  },
  {
   "cell_type": "code",
   "execution_count": 203,
   "metadata": {},
   "outputs": [
    {
     "data": {
      "text/plain": [
       "[1, 3, 5, 6, 7, 9]"
      ]
     },
     "execution_count": 203,
     "metadata": {},
     "output_type": "execute_result"
    }
   ],
   "source": [
    "# La funcion sorted ordena por defecto de manera ascendente los elementos de una lista\n",
    "num_list = [3, 6, 1, 9, 5, 7]\n",
    "\n",
    "sorted(num_list)"
   ]
  },
  {
   "cell_type": "code",
   "execution_count": 206,
   "metadata": {},
   "outputs": [
    {
     "data": {
      "text/plain": [
       "[1, 3, 5, 6, 7, 9]"
      ]
     },
     "execution_count": 206,
     "metadata": {},
     "output_type": "execute_result"
    }
   ],
   "source": [
    "sorted(num_list, reverse = False)"
   ]
  },
  {
   "cell_type": "code",
   "execution_count": 208,
   "metadata": {},
   "outputs": [
    {
     "data": {
      "text/plain": [
       "[9, 7, 6, 5, 3, 1]"
      ]
     },
     "execution_count": 208,
     "metadata": {},
     "output_type": "execute_result"
    }
   ],
   "source": [
    "# reverse = True ordena de manera descendente\n",
    "sorted(num_list, reverse = True)"
   ]
  },
  {
   "cell_type": "code",
   "execution_count": 209,
   "metadata": {},
   "outputs": [
    {
     "name": "stdout",
     "output_type": "stream",
     "text": [
      "Alice Peter Greg\n"
     ]
    }
   ],
   "source": [
    "# El separador por defecto es \" \"\n",
    "print(\"Alice\", \"Peter\", \"Greg\")"
   ]
  },
  {
   "cell_type": "code",
   "execution_count": 210,
   "metadata": {},
   "outputs": [
    {
     "name": "stdout",
     "output_type": "stream",
     "text": [
      "Alice|Peter|Greg\n"
     ]
    }
   ],
   "source": [
    "# Se define sep = \"|\"\n",
    "print(\"Alice\", \"Peter\", \"Greg\", sep = \"|\")"
   ]
  },
  {
   "cell_type": "code",
   "execution_count": 211,
   "metadata": {},
   "outputs": [
    {
     "name": "stdout",
     "output_type": "stream",
     "text": [
      "Alice|Peter|Greg****"
     ]
    }
   ],
   "source": [
    "# Argumento de entrada al final\n",
    "print(\"Alice\", \"Peter\", \"Greg\", sep = \"|\", end = \"****\")"
   ]
  },
  {
   "cell_type": "code",
   "execution_count": null,
   "metadata": {},
   "outputs": [],
   "source": []
  }
 ],
 "metadata": {
  "kernelspec": {
   "display_name": "Python 3 (ipykernel)",
   "language": "python",
   "name": "python3"
  },
  "language_info": {
   "codemirror_mode": {
    "name": "ipython",
    "version": 3
   },
   "file_extension": ".py",
   "mimetype": "text/x-python",
   "name": "python",
   "nbconvert_exporter": "python",
   "pygments_lexer": "ipython3",
   "version": "3.10.8"
  },
  "orig_nbformat": 4
 },
 "nbformat": 4,
 "nbformat_minor": 2
}
